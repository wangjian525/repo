{
 "cells": [
  {
   "cell_type": "code",
   "execution_count": 24,
   "metadata": {},
   "outputs": [],
   "source": [
    "from textrank4zh import TextRank4Keyword, TextRank4Sentence\n",
    "import jieba"
   ]
  },
  {
   "cell_type": "code",
   "execution_count": 25,
   "metadata": {},
   "outputs": [],
   "source": [
    "text = '今天，武汉市教育局发出《关于延迟2020年春季开学时间有关工作的通知》，延迟全市中小学、市属大中专院校2020年春季开学时间。\\\n",
    "具体开学时间将视武汉市新冠肺炎疫情发展和防控情况，请示上级同意后另行通知。2月10日前，各单位严格按照要求，做好假期各项工作。\\\n",
    "2月10日开始，各区教育局组织辖区中小学、中职学校，按照教学计划安排，开展在线课程教学（方案另发）。\\\n",
    "正式开学前，严禁市属各级各类学校组织各类线下课程教学、培训和集体活动。\\\n",
    "各区教育局要指导辖区中小学、幼儿园，合理制定学生学习计划和生活指南，指导学生安排好居家学习和生活；\\\n",
    "要关注学生心理健康，建立离校学生情况日报制度，定期向学生了解相关情况，通过电话、网络等各种方式做好学生的个性化辅导。'"
   ]
  },
  {
   "cell_type": "code",
   "execution_count": 26,
   "metadata": {},
   "outputs": [
    {
     "name": "stdout",
     "output_type": "stream",
     "text": [
      "关键词:\n",
      "学生 0.06094147783167887\n",
      "情况 0.03322053493089593\n",
      "中小学 0.032725665441405545\n",
      "教学 0.023397301538669237\n",
      "教育局 0.02190823215813645\n",
      "做好 0.02093989243160494\n",
      "武汉市 0.02052552460004262\n",
      "指导 0.020403659215736274\n",
      "延迟 0.019289766539730153\n",
      "课程 0.018998299826258294\n",
      "安排 0.01867399264408962\n",
      "市属 0.01825369135059241\n",
      "时间 0.01816420728763171\n",
      "辖区 0.01802758823846917\n",
      "工作 0.017825859653292607\n",
      "培训 0.01649540288582155\n",
      "组织 0.015894476153464735\n",
      "开学 0.01572321872998555\n",
      "学校 0.015675777298719915\n",
      "学习 0.015643180999411893\n"
     ]
    }
   ],
   "source": [
    "tr4w = TextRank4Keyword()\n",
    "tr4w.analyze(text=text, lower=True, window=3)\n",
    "print('关键词:')\n",
    "for item in tr4w.get_keywords(num=20, word_min_len=2):\n",
    "    print(item.word, item.weight)"
   ]
  },
  {
   "cell_type": "code",
   "execution_count": 27,
   "metadata": {},
   "outputs": [
    {
     "name": "stdout",
     "output_type": "stream",
     "text": [
      "摘要:\n",
      "0 0.16736862381514578 今天，武汉市教育局发出《关于延迟2020年春季开学时间有关工作的通知》，延迟全市中小学、市属大中专院校2020年春季开学时间\n",
      "3 0.16121904336116283 2月10日开始，各区教育局组织辖区中小学、中职学校，按照教学计划安排，开展在线课程教学（方案另发）\n",
      "6 0.14645271233055304 要关注学生心理健康，建立离校学生情况日报制度，定期向学生了解相关情况，通过电话、网络等各种方式做好学生的个性化辅导\n"
     ]
    }
   ],
   "source": [
    "tr4s = TextRank4Sentence()\n",
    "tr4s.analyze(text,lower=True,source='all_filters')\n",
    "print('摘要:')\n",
    "for item in tr4s.get_key_sentences(num=3):\n",
    "    # index 是语句的文本位置weight表示权重\n",
    "    print(item.index, item.weight, item.sentence)"
   ]
  }
 ],
 "metadata": {
  "kernelspec": {
   "display_name": "Python 3",
   "language": "python",
   "name": "python3"
  },
  "language_info": {
   "codemirror_mode": {
    "name": "ipython",
    "version": 3
   },
   "file_extension": ".py",
   "mimetype": "text/x-python",
   "name": "python",
   "nbconvert_exporter": "python",
   "pygments_lexer": "ipython3",
   "version": "3.7.3"
  }
 },
 "nbformat": 4,
 "nbformat_minor": 2
}
