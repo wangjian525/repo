{
 "cells": [
  {
   "cell_type": "code",
   "execution_count": 1,
   "metadata": {},
   "outputs": [
    {
     "name": "stderr",
     "output_type": "stream",
     "text": [
      "/Users/wangjian/anaconda3/lib/python3.7/importlib/_bootstrap.py:219: RuntimeWarning: numpy.ufunc size changed, may indicate binary incompatibility. Expected 192 from C header, got 216 from PyObject\n",
      "  return f(*args, **kwds)\n",
      "/Users/wangjian/anaconda3/lib/python3.7/importlib/_bootstrap.py:219: RuntimeWarning: numpy.ufunc size changed, may indicate binary incompatibility. Expected 192 from C header, got 216 from PyObject\n",
      "  return f(*args, **kwds)\n"
     ]
    }
   ],
   "source": [
    "import pandas as pd\n",
    "import numpy as np\n",
    "from sklearn.linear_model import LogisticRegression\n",
    "from sklearn.model_selection import train_test_split"
   ]
  },
  {
   "cell_type": "code",
   "execution_count": 2,
   "metadata": {},
   "outputs": [],
   "source": [
    "# 数据加载\n",
    "train_data = pd.read_csv('./train_data.csv')\n",
    "test_data = pd.read_csv('./test_data.csv')"
   ]
  },
  {
   "cell_type": "code",
   "execution_count": 3,
   "metadata": {},
   "outputs": [],
   "source": [
    "x_train, x_test, y_train, y_test = train_test_split(train_data.drop('Attrition', axis=1), train_data['Attrition'], test_size=0.2)"
   ]
  },
  {
   "cell_type": "code",
   "execution_count": 4,
   "metadata": {},
   "outputs": [],
   "source": [
    "model = LogisticRegression(max_iter=100, \n",
    "                           verbose=True, \n",
    "                           random_state=33,\n",
    "                           tol=1e-4\n",
    "                          )"
   ]
  },
  {
   "cell_type": "code",
   "execution_count": 6,
   "metadata": {},
   "outputs": [
    {
     "name": "stderr",
     "output_type": "stream",
     "text": [
      "[Parallel(n_jobs=1)]: Using backend SequentialBackend with 1 concurrent workers.\n",
      "/Users/wangjian/anaconda3/lib/python3.7/site-packages/sklearn/linear_model/_logistic.py:940: ConvergenceWarning: lbfgs failed to converge (status=1):\n",
      "STOP: TOTAL NO. of ITERATIONS REACHED LIMIT.\n",
      "\n",
      "Increase the number of iterations (max_iter) or scale the data as shown in:\n",
      "    https://scikit-learn.org/stable/modules/preprocessing.html\n",
      "Please also refer to the documentation for alternative solver options:\n",
      "    https://scikit-learn.org/stable/modules/linear_model.html#logistic-regression\n",
      "  extra_warning_msg=_LOGISTIC_SOLVER_CONVERGENCE_MSG)\n",
      "[Parallel(n_jobs=1)]: Done   1 out of   1 | elapsed:    0.1s finished\n"
     ]
    },
    {
     "data": {
      "text/plain": [
       "0.8389830508474576"
      ]
     },
     "execution_count": 6,
     "metadata": {},
     "output_type": "execute_result"
    }
   ],
   "source": [
    "model.fit(x_train, y_train)\n",
    "predict = model.predict(x_test)\n",
    "model.score(x_test, y_test)"
   ]
  },
  {
   "cell_type": "code",
   "execution_count": 13,
   "metadata": {},
   "outputs": [
    {
     "name": "stdout",
     "output_type": "stream",
     "text": [
      "              precision    recall  f1-score   support\n",
      "\n",
      "         未离职       0.84      1.00      0.91       197\n",
      "          离职       1.00      0.03      0.05        39\n",
      "\n",
      "    accuracy                           0.84       236\n",
      "   macro avg       0.92      0.51      0.48       236\n",
      "weighted avg       0.87      0.84      0.77       236\n",
      "\n"
     ]
    }
   ],
   "source": [
    "from sklearn.metrics import classification_report, auc, roc_auc_score\n",
    "print(classification_report(y_test, predict, labels=[0,1],target_names=[\"未离职\", \"离职\"]))"
   ]
  },
  {
   "cell_type": "code",
   "execution_count": 14,
   "metadata": {},
   "outputs": [
    {
     "name": "stdout",
     "output_type": "stream",
     "text": [
      "[0 0 0 0 0 0 0 0 0 0 0 0 0 0 0 0 0 0 0 0 0 0 0 0 0 0 0 0 0 0 0 0 0 0 0 0 0\n",
      " 0 0 0 0 0 0 0 0 0 0 0 0 0 0 0 0 0 0 0 0 0 0 0 0 0 0 0 0 0 0 0 0 0 0 0 0 0\n",
      " 0 0 0 0 0 0 0 0 0 0 0 0 0 0 0 0 0 0 0 0 0 0 0 0 0 0 0 0 0 0 0 0 0 0 0 0 0\n",
      " 0 0 0 0 0 0 0 0 0 0 0 0 0 0 0 0 0 0 0 0 0 0 0 0 0 0 0 0 0 0 0 0 0 0 0 0 0\n",
      " 0 0 0 0 0 0 0 0 0 0 0 0 0 0 0 0 0 0 0 0 0 0 0 0 0 0 0 0 0 0 0 0 0 0 0 0 0\n",
      " 0 0 0 0 0 0 0 0 0 0 0 0 0 0 1 0 0 0 0 0 0 0 0 0 0 0 0 0 0 0 0 0 0 0 0 0 0\n",
      " 0 0 0 0 0 0 0 0 0 0 0 0 0 0]\n"
     ]
    }
   ],
   "source": [
    "print(predict)"
   ]
  },
  {
   "cell_type": "code",
   "execution_count": 15,
   "metadata": {},
   "outputs": [
    {
     "name": "stdout",
     "output_type": "stream",
     "text": [
      "0.5128205128205128\n"
     ]
    }
   ],
   "source": [
    "print(roc_auc_score(y_test, predict))"
   ]
  },
  {
   "cell_type": "code",
   "execution_count": 16,
   "metadata": {},
   "outputs": [],
   "source": [
    "test_data.drop('Attrition', axis=1, inplace=True)"
   ]
  },
  {
   "cell_type": "code",
   "execution_count": 25,
   "metadata": {
    "scrolled": true
   },
   "outputs": [
    {
     "name": "stdout",
     "output_type": "stream",
     "text": [
      "[0.1491701  0.46909064 0.35647603 0.11397559 0.54722689 0.36898989\n",
      " 0.19561903 0.07926171 0.06505421 0.1597702  0.04013255 0.43380021\n",
      " 0.1271866  0.15820932 0.07772034 0.09027138 0.15327168 0.2396057\n",
      " 0.15299051 0.18360885 0.36407912 0.0274292  0.15773839 0.22289692\n",
      " 0.39229113 0.17161952 0.26200426 0.03940273 0.42196946 0.09141956\n",
      " 0.07699907 0.07383106 0.07809588 0.03095064 0.10220671 0.09563299\n",
      " 0.11733865 0.34926636 0.09142244 0.33484342 0.17352517 0.14644483\n",
      " 0.05455208 0.06507039 0.08560959 0.29541627 0.26688806 0.11852077\n",
      " 0.41853896 0.22156916 0.04614525 0.25597496 0.21284497 0.05927943\n",
      " 0.16682671 0.1180857  0.11856467 0.1182811  0.2054895  0.15614715\n",
      " 0.1045105  0.28097516 0.09293194 0.11760563 0.24172792 0.0584997\n",
      " 0.11601127 0.24741502 0.15754007 0.19916149 0.06297077 0.48531488\n",
      " 0.35979131 0.30884703 0.13061743 0.34404891 0.21622843 0.02818656\n",
      " 0.26348775 0.0792215  0.03156344 0.13052983 0.277485   0.21653497\n",
      " 0.24525237 0.15936175 0.01424887 0.07717148 0.10486882 0.28358681\n",
      " 0.38072167 0.21026764 0.30685937 0.21593741 0.13619277 0.3303168\n",
      " 0.41893315 0.25154473 0.18132137 0.12247508 0.20264242 0.26410228\n",
      " 0.074235   0.0846529  0.21740401 0.06357467 0.08978247 0.24009995\n",
      " 0.27623812 0.09008097 0.1433083  0.03454597 0.05471348 0.20490891\n",
      " 0.22600232 0.18050203 0.08978079 0.07704757 0.02157374 0.09700133\n",
      " 0.25832322 0.19631982 0.16129324 0.57250349 0.07247222 0.0146861\n",
      " 0.03199882 0.17421037 0.10593046 0.11600723 0.03033652 0.20872374\n",
      " 0.12507246 0.17239292 0.03058076 0.07934535 0.33911685 0.0985564\n",
      " 0.12903375 0.08412117 0.0498884  0.1482759  0.14611908 0.13414186\n",
      " 0.06670068 0.08063459 0.05633897 0.01755404 0.06895963 0.17833802\n",
      " 0.12672903 0.21764998 0.19557489 0.00882807 0.02026042 0.13931557\n",
      " 0.04715516 0.24115774 0.24481429 0.06713522 0.05202246 0.04449189\n",
      " 0.29438843 0.56315947 0.08411045 0.23657888 0.08927599 0.34330072\n",
      " 0.3228579  0.02433383 0.13337906 0.10050535 0.09442151 0.2753134\n",
      " 0.02553394 0.28974393 0.20328416 0.0565596  0.18169435 0.05809171\n",
      " 0.23828049 0.117243   0.01293228 0.13269854 0.12235096 0.21670384\n",
      " 0.12957168 0.13830158 0.41514773 0.33988676 0.49955725 0.30281227\n",
      " 0.29180497 0.21564356 0.30475996 0.13097974 0.17783388 0.04688485\n",
      " 0.3128371  0.10341597 0.20788088 0.34269008 0.38422153 0.16845602\n",
      " 0.46038128 0.25741024 0.33047752 0.02042301 0.21196785 0.09562809\n",
      " 0.15526864 0.39313164 0.1543287  0.16213207 0.1244924  0.0903209\n",
      " 0.0176996  0.21130559 0.05228915 0.20710311 0.18002377 0.35807279\n",
      " 0.58933113 0.03886    0.30214962 0.17292451 0.1553962  0.1758311\n",
      " 0.47964132 0.15299913 0.04692199 0.19548459 0.17489352 0.150944\n",
      " 0.0976458  0.22709332 0.29519997 0.10040658 0.25003754 0.08161384\n",
      " 0.16539329 0.29284514 0.01351497 0.23281785 0.09090114 0.18758443\n",
      " 0.13301417 0.1231841  0.1554675  0.11559996 0.39174648 0.08407763\n",
      " 0.6438862  0.07261785 0.11117562 0.11410972 0.01429845 0.33014168\n",
      " 0.35812709 0.17276739 0.17049834 0.09546006 0.23251321 0.2184943\n",
      " 0.11567464 0.1960777  0.14903675 0.21568762 0.13426445 0.1173164\n",
      " 0.19427288 0.13557588 0.40844427 0.15058733 0.1674426  0.11928317\n",
      " 0.15841021 0.1032775  0.26686448 0.27660648 0.19973263 0.15648951\n",
      " 0.25276764 0.04709384 0.00903459 0.21119841 0.0872199  0.38855754\n",
      " 0.0156814  0.11774627 0.24453254 0.22501861 0.09582307 0.15574893]\n"
     ]
    }
   ],
   "source": [
    "predict_test = model.predict_proba(test_data)[:,1]\n",
    "print(predict_test)"
   ]
  },
  {
   "cell_type": "code",
   "execution_count": 29,
   "metadata": {},
   "outputs": [
    {
     "name": "stdout",
     "output_type": "stream",
     "text": [
      "     user_id  Attrition\n",
      "0        442          0\n",
      "1       1091          0\n",
      "2        981          0\n",
      "3        785          0\n",
      "4       1332          1\n",
      "..       ...        ...\n",
      "289     1439          0\n",
      "290      481          0\n",
      "291      124          0\n",
      "292      198          0\n",
      "293     1229          0\n",
      "\n",
      "[294 rows x 2 columns]\n"
     ]
    }
   ],
   "source": [
    "temp = pd.read_csv('./test.csv')['user_id']\n",
    "# print(temp)\n",
    "submit = pd.DataFrame(temp)\n",
    "submit['Attrition'] = predict_test\n",
    "submit['Attrition'] = submit['Attrition'].map(lambda x:1 if x>=0.5 else 0)\n",
    "print(submit)\n",
    "submit.to_csv('submit_lr.csv', index=None)"
   ]
  },
  {
   "cell_type": "code",
   "execution_count": null,
   "metadata": {},
   "outputs": [],
   "source": []
  }
 ],
 "metadata": {
  "kernelspec": {
   "display_name": "Python 3",
   "language": "python",
   "name": "python3"
  },
  "language_info": {
   "codemirror_mode": {
    "name": "ipython",
    "version": 3
   },
   "file_extension": ".py",
   "mimetype": "text/x-python",
   "name": "python",
   "nbconvert_exporter": "python",
   "pygments_lexer": "ipython3",
   "version": "3.7.3"
  }
 },
 "nbformat": 4,
 "nbformat_minor": 2
}
