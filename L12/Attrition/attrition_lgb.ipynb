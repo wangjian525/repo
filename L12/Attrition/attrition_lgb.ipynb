{
 "cells": [
  {
   "cell_type": "code",
   "execution_count": 52,
   "metadata": {},
   "outputs": [],
   "source": [
    "import pandas as pd\n",
    "import numpy as np\n",
    "import lightgbm as lgb\n",
    "from sklearn.model_selection import train_test_split\n",
    "from sklearn.metrics import classification_report, roc_auc_score\n",
    "# 数据加载\n",
    "Train_data = pd.read_csv('./train_data.csv', index_col=0)\n",
    "Test_data = pd.read_csv('./test_data.csv', index_col=0)\n",
    "Test_data.drop('Attrition', axis=1, inplace=True)\n",
    "x_train, x_test, y_train, y_test = train_test_split(Train_data.drop('Attrition', axis=1), Train_data['Attrition'], test_size=0.2)"
   ]
  },
  {
   "cell_type": "code",
   "execution_count": 53,
   "metadata": {
    "scrolled": true
   },
   "outputs": [
    {
     "name": "stdout",
     "output_type": "stream",
     "text": [
      "<class 'pandas.core.frame.DataFrame'>\n",
      "Int64Index: 1176 entries, 0 to 1175\n",
      "Data columns (total 31 columns):\n",
      "Age                         1176 non-null int64\n",
      "Attrition                   1176 non-null int64\n",
      "BusinessTravel              1176 non-null int64\n",
      "DailyRate                   1176 non-null int64\n",
      "Department                  1176 non-null int64\n",
      "DistanceFromHome            1176 non-null int64\n",
      "Education                   1176 non-null int64\n",
      "EmployeeCount               1176 non-null int64\n",
      "EnvironmentSatisfaction     1176 non-null int64\n",
      "Gender                      1176 non-null int64\n",
      "HourlyRate                  1176 non-null int64\n",
      "JobInvolvement              1176 non-null int64\n",
      "JobLevel                    1176 non-null int64\n",
      "JobRole                     1176 non-null int64\n",
      "JobSatisfaction             1176 non-null int64\n",
      "MaritalStatus               1176 non-null int64\n",
      "MonthlyIncome               1176 non-null int64\n",
      "MonthlyRate                 1176 non-null int64\n",
      "NumCompaniesWorked          1176 non-null int64\n",
      "OverTime                    1176 non-null int64\n",
      "PercentSalaryHike           1176 non-null int64\n",
      "PerformanceRating           1176 non-null int64\n",
      "RelationshipSatisfaction    1176 non-null int64\n",
      "StockOptionLevel            1176 non-null int64\n",
      "TotalWorkingYears           1176 non-null int64\n",
      "TrainingTimesLastYear       1176 non-null int64\n",
      "WorkLifeBalance             1176 non-null int64\n",
      "YearsAtCompany              1176 non-null int64\n",
      "YearsInCurrentRole          1176 non-null int64\n",
      "YearsSinceLastPromotion     1176 non-null int64\n",
      "YearsWithCurrManager        1176 non-null int64\n",
      "dtypes: int64(31)\n",
      "memory usage: 294.0 KB\n"
     ]
    }
   ],
   "source": [
    "Train_data.info()"
   ]
  },
  {
   "cell_type": "code",
   "execution_count": 54,
   "metadata": {},
   "outputs": [
    {
     "name": "stdout",
     "output_type": "stream",
     "text": [
      "<class 'pandas.core.frame.DataFrame'>\n",
      "Int64Index: 294 entries, 1176 to 1469\n",
      "Data columns (total 30 columns):\n",
      "Age                         294 non-null int64\n",
      "BusinessTravel              294 non-null int64\n",
      "DailyRate                   294 non-null int64\n",
      "Department                  294 non-null int64\n",
      "DistanceFromHome            294 non-null int64\n",
      "Education                   294 non-null int64\n",
      "EmployeeCount               294 non-null int64\n",
      "EnvironmentSatisfaction     294 non-null int64\n",
      "Gender                      294 non-null int64\n",
      "HourlyRate                  294 non-null int64\n",
      "JobInvolvement              294 non-null int64\n",
      "JobLevel                    294 non-null int64\n",
      "JobRole                     294 non-null int64\n",
      "JobSatisfaction             294 non-null int64\n",
      "MaritalStatus               294 non-null int64\n",
      "MonthlyIncome               294 non-null int64\n",
      "MonthlyRate                 294 non-null int64\n",
      "NumCompaniesWorked          294 non-null int64\n",
      "OverTime                    294 non-null int64\n",
      "PercentSalaryHike           294 non-null int64\n",
      "PerformanceRating           294 non-null int64\n",
      "RelationshipSatisfaction    294 non-null int64\n",
      "StockOptionLevel            294 non-null int64\n",
      "TotalWorkingYears           294 non-null int64\n",
      "TrainingTimesLastYear       294 non-null int64\n",
      "WorkLifeBalance             294 non-null int64\n",
      "YearsAtCompany              294 non-null int64\n",
      "YearsInCurrentRole          294 non-null int64\n",
      "YearsSinceLastPromotion     294 non-null int64\n",
      "YearsWithCurrManager        294 non-null int64\n",
      "dtypes: int64(30)\n",
      "memory usage: 71.2 KB\n"
     ]
    }
   ],
   "source": [
    "Test_data.info()"
   ]
  },
  {
   "cell_type": "code",
   "execution_count": 55,
   "metadata": {},
   "outputs": [],
   "source": [
    "attr=['BusinessTravel','Department','Education','JobRole','MaritalStatus','OverTime']"
   ]
  },
  {
   "cell_type": "code",
   "execution_count": 56,
   "metadata": {},
   "outputs": [],
   "source": [
    "param = {'boosting_type':'gbdt',\n",
    "                         'objective' : 'binary', #\n",
    "                         #'metric' : 'binary_logloss',\n",
    "                         'metric' : 'auc',\n",
    "#                          'metric' : 'self_metric',\n",
    "                         'learning_rate' : 0.01,\n",
    "                         'max_depth' : 15,\n",
    "                         'feature_fraction':0.8,\n",
    "                         'bagging_fraction': 0.9,\n",
    "                         'bagging_freq': 8,\n",
    "                         'lambda_l1': 0.6,\n",
    "                         'lambda_l2': 0,\n",
    "#                          'scale_pos_weight':k,\n",
    "#                         'is_unbalance':True\n",
    "        }"
   ]
  },
  {
   "cell_type": "code",
   "execution_count": 58,
   "metadata": {},
   "outputs": [
    {
     "name": "stderr",
     "output_type": "stream",
     "text": [
      "/Users/wangjian/anaconda3/lib/python3.7/site-packages/lightgbm/basic.py:1295: UserWarning: categorical_feature in Dataset is overridden.\n",
      "New categorical_feature is ['BusinessTravel', 'Department', 'Education', 'JobRole', 'MaritalStatus', 'OverTime']\n",
      "  'New categorical_feature is {}'.format(sorted(list(categorical_feature))))\n"
     ]
    },
    {
     "name": "stdout",
     "output_type": "stream",
     "text": [
      "Training until validation scores don't improve for 200 rounds\n",
      "[25]\ttraining's auc: 0.941656\tvalid_1's auc: 0.778675\n",
      "[50]\ttraining's auc: 0.949277\tvalid_1's auc: 0.791444\n",
      "[75]\ttraining's auc: 0.956116\tvalid_1's auc: 0.795482\n",
      "[100]\ttraining's auc: 0.964083\tvalid_1's auc: 0.803121\n",
      "[125]\ttraining's auc: 0.970478\tvalid_1's auc: 0.808251\n",
      "[150]\ttraining's auc: 0.977977\tvalid_1's auc: 0.81087\n",
      "[175]\ttraining's auc: 0.983186\tvalid_1's auc: 0.80956\n",
      "[200]\ttraining's auc: 0.987525\tvalid_1's auc: 0.811197\n",
      "[225]\ttraining's auc: 0.990506\tvalid_1's auc: 0.811852\n",
      "[250]\ttraining's auc: 0.992797\tvalid_1's auc: 0.812507\n",
      "[275]\ttraining's auc: 0.995114\tvalid_1's auc: 0.816872\n",
      "[300]\ttraining's auc: 0.996353\tvalid_1's auc: 0.81709\n",
      "[325]\ttraining's auc: 0.997494\tvalid_1's auc: 0.818509\n",
      "[350]\ttraining's auc: 0.998204\tvalid_1's auc: 0.820692\n",
      "[375]\ttraining's auc: 0.998787\tvalid_1's auc: 0.822438\n",
      "[400]\ttraining's auc: 0.999281\tvalid_1's auc: 0.825603\n",
      "[425]\ttraining's auc: 0.999488\tvalid_1's auc: 0.825385\n",
      "[450]\ttraining's auc: 0.999695\tvalid_1's auc: 0.825494\n",
      "[475]\ttraining's auc: 0.999811\tvalid_1's auc: 0.826803\n",
      "[500]\ttraining's auc: 0.999892\tvalid_1's auc: 0.825494\n",
      "[525]\ttraining's auc: 0.999928\tvalid_1's auc: 0.827458\n",
      "[550]\ttraining's auc: 0.999964\tvalid_1's auc: 0.82604\n",
      "[575]\ttraining's auc: 0.999982\tvalid_1's auc: 0.825276\n",
      "[600]\ttraining's auc: 0.999982\tvalid_1's auc: 0.824184\n",
      "[625]\ttraining's auc: 0.999991\tvalid_1's auc: 0.824621\n",
      "[650]\ttraining's auc: 1\tvalid_1's auc: 0.826258\n",
      "[675]\ttraining's auc: 1\tvalid_1's auc: 0.825712\n",
      "[700]\ttraining's auc: 1\tvalid_1's auc: 0.826149\n",
      "[725]\ttraining's auc: 1\tvalid_1's auc: 0.825276\n",
      "Early stopping, best iteration is:\n",
      "[527]\ttraining's auc: 0.999937\tvalid_1's auc: 0.828004\n"
     ]
    }
   ],
   "source": [
    "X_train, X_valid, y_train, y_valid = train_test_split(Train_data.drop('Attrition',axis=1), Train_data['Attrition'], test_size=0.2, random_state=42)\n",
    "train_data = lgb.Dataset(X_train, label=y_train)\n",
    "valid_data = lgb.Dataset(X_valid, label=y_valid)\n",
    "\n",
    "\n",
    "model = lgb.train(param,train_data,valid_sets=[train_data,valid_data],num_boost_round = 10000 ,\n",
    "                  early_stopping_rounds=200,verbose_eval=25,categorical_feature=attr)\n",
    "predict=model.predict(Test_data)"
   ]
  },
  {
   "cell_type": "code",
   "execution_count": 72,
   "metadata": {},
   "outputs": [
    {
     "name": "stdout",
     "output_type": "stream",
     "text": [
      "     user_id  Attrition\n",
      "0        442          0\n",
      "1       1091          0\n",
      "2        981          0\n",
      "3        785          0\n",
      "4       1332          1\n",
      "..       ...        ...\n",
      "289     1439          0\n",
      "290      481          0\n",
      "291      124          1\n",
      "292      198          0\n",
      "293     1229          0\n",
      "\n",
      "[294 rows x 2 columns]\n"
     ]
    }
   ],
   "source": [
    "# Test_data['Attrition']=predict\n",
    "# Test_data['Attrition']=Test_data['Attrition'].map(lambda x:1 if x>=0.5 else 0)\n",
    "#test['Attrition']=predict\n",
    "temp = pd.read_csv('./test.csv')['user_id']\n",
    "# print(temp)\n",
    "submit = pd.DataFrame(temp)\n",
    "submit['Attrition'] = predict\n",
    "submit['Attrition'] = submit['Attrition'].map(lambda x:1 if x>=0.5 else 0)\n",
    "print(submit)\n",
    "submit.to_csv('submit_lgb.csv', index=None)"
   ]
  },
  {
   "cell_type": "code",
   "execution_count": null,
   "metadata": {},
   "outputs": [],
   "source": []
  }
 ],
 "metadata": {
  "kernelspec": {
   "display_name": "Python 3",
   "language": "python",
   "name": "python3"
  },
  "language_info": {
   "codemirror_mode": {
    "name": "ipython",
    "version": 3
   },
   "file_extension": ".py",
   "mimetype": "text/x-python",
   "name": "python",
   "nbconvert_exporter": "python",
   "pygments_lexer": "ipython3",
   "version": "3.7.3"
  }
 },
 "nbformat": 4,
 "nbformat_minor": 2
}
