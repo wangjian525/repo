{
 "cells": [
  {
   "cell_type": "code",
   "execution_count": 24,
   "metadata": {
    "scrolled": true
   },
   "outputs": [],
   "source": [
    "import pandas as pd\n",
    "import numpy as np\n",
    "import xgboost as xgb\n",
    "from sklearn.model_selection import train_test_split\n",
    "from sklearn.metrics import classification_report, roc_auc_score\n",
    "# 数据加载\n",
    "Train_data = pd.read_csv('./train_data.csv', index_col=0)\n",
    "Test_data = pd.read_csv('./test_data.csv', index_col=0)\n",
    "Test_data.drop('Attrition', axis=1, inplace=True)\n",
    "x_train, x_test, y_train, y_test = train_test_split(Train_data.drop('Attrition', axis=1), Train_data['Attrition'], test_size=0.2)"
   ]
  },
  {
   "cell_type": "code",
   "execution_count": 25,
   "metadata": {},
   "outputs": [],
   "source": [
    "param = {'boosting_type':'gbdt',\n",
    "                         'objective' : 'binary:logistic', #\n",
    "                         'eval_metric' : 'auc',\n",
    "                         'eta' : 0.01,\n",
    "                         'max_depth' : 15,\n",
    "                         'colsample_bytree':0.8,\n",
    "                         'subsample': 0.9,\n",
    "                         'subsample_freq': 8,\n",
    "                         'alpha': 0.6,\n",
    "                         'lambda': 0,}"
   ]
  },
  {
   "cell_type": "code",
   "execution_count": 26,
   "metadata": {},
   "outputs": [],
   "source": [
    "train_data = xgb.DMatrix(x_train, label=y_train)\n",
    "valid_data = xgb.DMatrix(x_test, label=y_test)\n",
    "test_data = xgb.DMatrix(Test_data)\n"
   ]
  },
  {
   "cell_type": "code",
   "execution_count": 27,
   "metadata": {},
   "outputs": [
    {
     "name": "stdout",
     "output_type": "stream",
     "text": [
      "[0]\ttrain-auc:0.860529\tvalid-auc:0.71717\n",
      "Multiple eval metrics have been passed: 'valid-auc' will be used for early stopping.\n",
      "\n",
      "Will train until valid-auc hasn't improved in 200 rounds.\n",
      "[25]\ttrain-auc:0.975945\tvalid-auc:0.778657\n",
      "[50]\ttrain-auc:0.98581\tvalid-auc:0.787064\n",
      "[75]\ttrain-auc:0.99209\tvalid-auc:0.794919\n",
      "[100]\ttrain-auc:0.995368\tvalid-auc:0.792096\n",
      "[125]\ttrain-auc:0.996679\tvalid-auc:0.800442\n",
      "[150]\ttrain-auc:0.99774\tvalid-auc:0.803019\n",
      "[175]\ttrain-auc:0.99843\tvalid-auc:0.804001\n",
      "[200]\ttrain-auc:0.998922\tvalid-auc:0.806578\n",
      "[225]\ttrain-auc:0.999388\tvalid-auc:0.806087\n",
      "[250]\ttrain-auc:0.999698\tvalid-auc:0.806087\n",
      "[275]\ttrain-auc:0.999802\tvalid-auc:0.807806\n",
      "[300]\ttrain-auc:0.999922\tvalid-auc:0.809647\n",
      "[325]\ttrain-auc:0.99994\tvalid-auc:0.810997\n",
      "[350]\ttrain-auc:0.999965\tvalid-auc:0.813574\n",
      "[375]\ttrain-auc:0.999983\tvalid-auc:0.814188\n",
      "[400]\ttrain-auc:0.999983\tvalid-auc:0.81566\n",
      "[425]\ttrain-auc:1\tvalid-auc:0.817133\n",
      "[450]\ttrain-auc:1\tvalid-auc:0.817256\n",
      "[475]\ttrain-auc:1\tvalid-auc:0.817379\n",
      "[500]\ttrain-auc:1\tvalid-auc:0.818974\n",
      "[525]\ttrain-auc:1\tvalid-auc:0.818974\n",
      "[550]\ttrain-auc:1\tvalid-auc:0.819219\n",
      "[575]\ttrain-auc:1\tvalid-auc:0.81971\n",
      "[600]\ttrain-auc:1\tvalid-auc:0.819097\n",
      "[625]\ttrain-auc:1\tvalid-auc:0.82106\n",
      "[650]\ttrain-auc:1\tvalid-auc:0.82192\n",
      "[675]\ttrain-auc:1\tvalid-auc:0.822901\n",
      "[700]\ttrain-auc:1\tvalid-auc:0.822901\n",
      "[725]\ttrain-auc:1\tvalid-auc:0.822779\n",
      "[750]\ttrain-auc:1\tvalid-auc:0.822901\n",
      "[775]\ttrain-auc:1\tvalid-auc:0.822779\n",
      "[800]\ttrain-auc:1\tvalid-auc:0.822901\n",
      "[825]\ttrain-auc:1\tvalid-auc:0.823515\n",
      "[850]\ttrain-auc:1\tvalid-auc:0.823638\n",
      "[875]\ttrain-auc:1\tvalid-auc:0.823269\n",
      "[900]\ttrain-auc:1\tvalid-auc:0.822533\n",
      "[925]\ttrain-auc:1\tvalid-auc:0.823024\n",
      "Stopping. Best iteration:\n",
      "[738]\ttrain-auc:1\tvalid-auc:0.823883\n",
      "\n"
     ]
    }
   ],
   "source": [
    "model = xgb.train(param, train_data, evals=[(train_data, 'train'), (valid_data, 'valid')], num_boost_round=10000, \n",
    "                 early_stopping_rounds=200, verbose_eval=25)\n",
    "predict = model.predict(test_data)"
   ]
  },
  {
   "cell_type": "code",
   "execution_count": 28,
   "metadata": {},
   "outputs": [],
   "source": []
  },
  {
   "cell_type": "code",
   "execution_count": 31,
   "metadata": {},
   "outputs": [
    {
     "name": "stdout",
     "output_type": "stream",
     "text": [
      "     user_id  Attrition\n",
      "0        442          0\n",
      "1       1091          0\n",
      "2        981          0\n",
      "3        785          0\n",
      "4       1332          1\n",
      "..       ...        ...\n",
      "289     1439          0\n",
      "290      481          0\n",
      "291      124          1\n",
      "292      198          0\n",
      "293     1229          0\n",
      "\n",
      "[294 rows x 2 columns]\n"
     ]
    }
   ],
   "source": [
    "temp = pd.read_csv('./test.csv')['user_id']\n",
    "# print(temp)\n",
    "submit = pd.DataFrame(temp)\n",
    "submit['Attrition'] = predict\n",
    "submit['Attrition'] = submit['Attrition'].map(lambda x:1 if x>=0.5 else 0)\n",
    "print(submit)\n",
    "submit.to_csv('submit_xgb.csv', index=None)"
   ]
  },
  {
   "cell_type": "code",
   "execution_count": null,
   "metadata": {},
   "outputs": [],
   "source": []
  }
 ],
 "metadata": {
  "kernelspec": {
   "display_name": "Python 3",
   "language": "python",
   "name": "python3"
  },
  "language_info": {
   "codemirror_mode": {
    "name": "ipython",
    "version": 3
   },
   "file_extension": ".py",
   "mimetype": "text/x-python",
   "name": "python",
   "nbconvert_exporter": "python",
   "pygments_lexer": "ipython3",
   "version": "3.7.3"
  }
 },
 "nbformat": 4,
 "nbformat_minor": 2
}
