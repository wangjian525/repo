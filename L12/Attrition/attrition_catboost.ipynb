{
 "cells": [
  {
   "cell_type": "code",
   "execution_count": 13,
   "metadata": {},
   "outputs": [],
   "source": [
    "import pandas as pd\n",
    "import numpy as np\n",
    "import catboost as cb\n",
    "from sklearn.model_selection import train_test_split\n",
    "\n",
    "# 数据加载\n",
    "Train_data = pd.read_csv('./train_data.csv', index_col=0)\n",
    "Test_data = pd.read_csv('./test_data.csv', index_col=0)\n",
    "Test_data.drop('Attrition', axis=1, inplace=True)\n",
    "x_train, x_test, y_train, y_test = train_test_split(Train_data.drop('Attrition', axis=1), Train_data['Attrition'], test_size=0.2)"
   ]
  },
  {
   "cell_type": "code",
   "execution_count": 14,
   "metadata": {},
   "outputs": [],
   "source": [
    "attr = ['Age', 'BusinessTravel', 'Department',\n",
    "       'DistanceFromHome', 'Education', \n",
    "       'EnvironmentSatisfaction', 'JobInvolvement',\n",
    "       'JobLevel', 'JobRole', 'JobSatisfaction', 'MaritalStatus', 'NumCompaniesWorked', 'OverTime',\n",
    "       'PercentSalaryHike', 'PerformanceRating', 'RelationshipSatisfaction',\n",
    "       'StockOptionLevel', 'TotalWorkingYears', 'TrainingTimesLastYear',\n",
    "       'WorkLifeBalance', 'YearsAtCompany', 'YearsInCurrentRole',\n",
    "       'YearsSinceLastPromotion', 'YearsWithCurrManager']"
   ]
  },
  {
   "cell_type": "code",
   "execution_count": 15,
   "metadata": {},
   "outputs": [],
   "source": [
    "model = cb.CatBoostClassifier(iterations=2000, \n",
    "                             depth=7,\n",
    "                             learning_rate=0.01, \n",
    "                             loss_function='Logloss',\n",
    "                             eval_metric='AUC',\n",
    "                             logging_level='Verbose',\n",
    "                             metric_period=50)"
   ]
  },
  {
   "cell_type": "code",
   "execution_count": 16,
   "metadata": {},
   "outputs": [
    {
     "name": "stdout",
     "output_type": "stream",
     "text": [
      "[0, 1, 3, 4, 5, 7, 10, 11, 12, 13, 14, 17, 18, 19, 20, 21, 22, 23, 24, 25, 26, 27, 28, 29]\n"
     ]
    }
   ],
   "source": [
    "categorical_features_indices = []\n",
    "for i in range(len(x_train.columns)):\n",
    "    if x_train.columns.values[i] in attr:\n",
    "        categorical_features_indices.append(i)\n",
    "print(categorical_features_indices)"
   ]
  },
  {
   "cell_type": "code",
   "execution_count": 22,
   "metadata": {},
   "outputs": [
    {
     "name": "stdout",
     "output_type": "stream",
     "text": [
      "0:\ttest: 0.6237055\tbest: 0.6237055 (0)\ttotal: 15.9ms\tremaining: 31.8s\n",
      "50:\ttest: 0.8564725\tbest: 0.8564725 (50)\ttotal: 961ms\tremaining: 36.7s\n",
      "100:\ttest: 0.8687702\tbest: 0.8687702 (100)\ttotal: 2.02s\tremaining: 38s\n",
      "150:\ttest: 0.8768608\tbest: 0.8768608 (150)\ttotal: 3.13s\tremaining: 38.4s\n",
      "200:\ttest: 0.8841424\tbest: 0.8841424 (200)\ttotal: 4.49s\tremaining: 40.1s\n",
      "250:\ttest: 0.8823625\tbest: 0.8841424 (200)\ttotal: 5.76s\tremaining: 40.2s\n",
      "300:\ttest: 0.8752427\tbest: 0.8841424 (200)\ttotal: 6.97s\tremaining: 39.4s\n",
      "350:\ttest: 0.8734628\tbest: 0.8841424 (200)\ttotal: 8.47s\tremaining: 39.8s\n",
      "400:\ttest: 0.8729773\tbest: 0.8841424 (200)\ttotal: 9.85s\tremaining: 39.3s\n",
      "450:\ttest: 0.8699029\tbest: 0.8841424 (200)\ttotal: 11.2s\tremaining: 38.3s\n",
      "500:\ttest: 0.8695793\tbest: 0.8841424 (200)\ttotal: 12.5s\tremaining: 37.3s\n",
      "550:\ttest: 0.8686084\tbest: 0.8841424 (200)\ttotal: 13.9s\tremaining: 36.6s\n",
      "600:\ttest: 0.8686084\tbest: 0.8841424 (200)\ttotal: 16.5s\tremaining: 38.4s\n",
      "650:\ttest: 0.8700647\tbest: 0.8841424 (200)\ttotal: 19.2s\tremaining: 39.9s\n",
      "700:\ttest: 0.8690939\tbest: 0.8841424 (200)\ttotal: 20.9s\tremaining: 38.7s\n",
      "750:\ttest: 0.8671521\tbest: 0.8841424 (200)\ttotal: 22.8s\tremaining: 37.9s\n",
      "800:\ttest: 0.8666667\tbest: 0.8841424 (200)\ttotal: 24.5s\tremaining: 36.7s\n",
      "850:\ttest: 0.8665049\tbest: 0.8841424 (200)\ttotal: 26.1s\tremaining: 35.2s\n",
      "900:\ttest: 0.8660194\tbest: 0.8841424 (200)\ttotal: 27.6s\tremaining: 33.7s\n",
      "950:\ttest: 0.8645631\tbest: 0.8841424 (200)\ttotal: 29.5s\tremaining: 32.5s\n",
      "1000:\ttest: 0.8650485\tbest: 0.8841424 (200)\ttotal: 31.4s\tremaining: 31.3s\n",
      "1050:\ttest: 0.8622977\tbest: 0.8841424 (200)\ttotal: 33.2s\tremaining: 30s\n",
      "1100:\ttest: 0.8593851\tbest: 0.8841424 (200)\ttotal: 35.3s\tremaining: 28.9s\n",
      "1150:\ttest: 0.8593851\tbest: 0.8841424 (200)\ttotal: 36.9s\tremaining: 27.2s\n",
      "1200:\ttest: 0.8574434\tbest: 0.8841424 (200)\ttotal: 38.5s\tremaining: 25.6s\n",
      "1250:\ttest: 0.8553398\tbest: 0.8841424 (200)\ttotal: 40.2s\tremaining: 24.1s\n",
      "1300:\ttest: 0.8545307\tbest: 0.8841424 (200)\ttotal: 41.9s\tremaining: 22.5s\n",
      "1350:\ttest: 0.8540453\tbest: 0.8841424 (200)\ttotal: 43.9s\tremaining: 21.1s\n",
      "1400:\ttest: 0.8529126\tbest: 0.8841424 (200)\ttotal: 45.8s\tremaining: 19.6s\n",
      "1450:\ttest: 0.8527508\tbest: 0.8841424 (200)\ttotal: 47.8s\tremaining: 18.1s\n",
      "1500:\ttest: 0.8529126\tbest: 0.8841424 (200)\ttotal: 51.4s\tremaining: 17.1s\n",
      "1550:\ttest: 0.8524272\tbest: 0.8841424 (200)\ttotal: 53.9s\tremaining: 15.6s\n",
      "1600:\ttest: 0.8501618\tbest: 0.8841424 (200)\ttotal: 55.7s\tremaining: 13.9s\n",
      "1650:\ttest: 0.8506472\tbest: 0.8841424 (200)\ttotal: 57.5s\tremaining: 12.2s\n",
      "1700:\ttest: 0.8511327\tbest: 0.8841424 (200)\ttotal: 59.2s\tremaining: 10.4s\n",
      "1750:\ttest: 0.8511327\tbest: 0.8841424 (200)\ttotal: 1m\tremaining: 8.67s\n",
      "1800:\ttest: 0.8503236\tbest: 0.8841424 (200)\ttotal: 1m 3s\tremaining: 6.99s\n",
      "1850:\ttest: 0.8500000\tbest: 0.8841424 (200)\ttotal: 1m 5s\tremaining: 5.25s\n",
      "1900:\ttest: 0.8488673\tbest: 0.8841424 (200)\ttotal: 1m 7s\tremaining: 3.53s\n",
      "1950:\ttest: 0.8488673\tbest: 0.8841424 (200)\ttotal: 1m 9s\tremaining: 1.76s\n",
      "1999:\ttest: 0.8478964\tbest: 0.8841424 (200)\ttotal: 1m 12s\tremaining: 0us\n",
      "\n",
      "bestTest = 0.8841423948\n",
      "bestIteration = 200\n",
      "\n",
      "Shrink model to first 201 iterations.\n"
     ]
    },
    {
     "data": {
      "text/plain": [
       "<catboost.core.CatBoostClassifier at 0x122761c88>"
      ]
     },
     "execution_count": 22,
     "metadata": {},
     "output_type": "execute_result"
    }
   ],
   "source": [
    "model.fit(x_train, y_train, eval_set=(x_test, y_test), cat_features=categorical_features_indices)"
   ]
  },
  {
   "cell_type": "code",
   "execution_count": 23,
   "metadata": {},
   "outputs": [],
   "source": [
    "predict = model.predict(Test_data)"
   ]
  },
  {
   "cell_type": "code",
   "execution_count": 24,
   "metadata": {},
   "outputs": [
    {
     "name": "stdout",
     "output_type": "stream",
     "text": [
      "     user_id  Attrition\n",
      "0        442          0\n",
      "1       1091          0\n",
      "2        981          0\n",
      "3        785          0\n",
      "4       1332          1\n",
      "..       ...        ...\n",
      "289     1439          0\n",
      "290      481          0\n",
      "291      124          0\n",
      "292      198          0\n",
      "293     1229          0\n",
      "\n",
      "[294 rows x 2 columns]\n"
     ]
    }
   ],
   "source": [
    "temp = pd.read_csv('./test.csv')['user_id']\n",
    "# print(temp)\n",
    "submit = pd.DataFrame(temp)\n",
    "submit['Attrition'] = predict\n",
    "submit['Attrition'] = submit['Attrition'].map(lambda x:1 if x>=0.5 else 0)\n",
    "print(submit)\n",
    "submit.to_csv('submit_cb.csv', index=None)"
   ]
  },
  {
   "cell_type": "code",
   "execution_count": null,
   "metadata": {},
   "outputs": [],
   "source": []
  }
 ],
 "metadata": {
  "kernelspec": {
   "display_name": "Python 3",
   "language": "python",
   "name": "python3"
  },
  "language_info": {
   "codemirror_mode": {
    "name": "ipython",
    "version": 3
   },
   "file_extension": ".py",
   "mimetype": "text/x-python",
   "name": "python",
   "nbconvert_exporter": "python",
   "pygments_lexer": "ipython3",
   "version": "3.7.3"
  }
 },
 "nbformat": 4,
 "nbformat_minor": 2
}
