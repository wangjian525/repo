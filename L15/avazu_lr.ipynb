{
 "cells": [
  {
   "cell_type": "code",
   "execution_count": 1,
   "metadata": {},
   "outputs": [],
   "source": [
    "# 使用LR模型对Avazu CTR进行预估\n",
    "import pandas as pd\n",
    "import numpy as np\n",
    "from dummyPy import OneHotEncoder  # 超大规模数据one-hot编码\n",
    "from sklearn.linear_model import SGDClassifier  # 梯度下降分类\n",
    "from sklearn.metrics import log_loss\n",
    "import matplotlib.pyplot as plt \n",
    "import pickle"
   ]
  },
  {
   "cell_type": "code",
   "execution_count": 2,
   "metadata": {},
   "outputs": [],
   "source": [
    "##==================== 设置文件路径File-Path (fp) ====================##\n",
    "file_path = '/Users/wangjian/Desktop/avazu/' \n",
    "fp_train_f = file_path + \"train_f.csv\"\n",
    "fp_test_f  = file_path + \"test_f.csv\"\n",
    "\n",
    "# one-hot编码保存\n",
    "fp_oh_enc = file_path + \"oh_enc\"\n",
    "# LR模型保存\n",
    "fp_lr_model = file_path + \"lr/lr_model\"\n",
    "# submission文件保存\n",
    "fp_sub = file_path + \"lr/LR_submission.csv\"\n"
   ]
  },
  {
   "cell_type": "code",
   "execution_count": 3,
   "metadata": {},
   "outputs": [],
   "source": [
    "##==================== LR 训练 ====================##\n",
    "oh_enc = pickle.load(open(fp_oh_enc, 'rb'))"
   ]
  },
  {
   "cell_type": "code",
   "execution_count": 4,
   "metadata": {},
   "outputs": [],
   "source": [
    "# 一个chunk块为5万行\n",
    "chunksize = 50000\n",
    "df_train_f = pd.read_csv(fp_train_f, dtype={'id':str}, index_col=None, chunksize=chunksize, iterator=True)"
   ]
  },
  {
   "cell_type": "code",
   "execution_count": 14,
   "metadata": {
    "scrolled": true
   },
   "outputs": [
    {
     "name": "stdout",
     "output_type": "stream",
     "text": [
      "<pandas.io.parsers.TextFileReader object at 0x126116978>\n"
     ]
    }
   ],
   "source": [
    "print(df_train_f)"
   ]
  },
  {
   "cell_type": "code",
   "execution_count": 5,
   "metadata": {},
   "outputs": [],
   "source": [
    "# 使用LogLoss作为LR的损失函数\n",
    "lr_model = SGDClassifier(loss='log')  \n",
    "scores = []"
   ]
  },
  {
   "cell_type": "code",
   "execution_count": 6,
   "metadata": {},
   "outputs": [
    {
     "name": "stdout",
     "output_type": "stream",
     "text": [
      "training...\n",
      "training...\n",
      "training...\n",
      "training...\n",
      "training...\n",
      "training...\n",
      "training...\n",
      "training...\n"
     ]
    }
   ],
   "source": [
    "# 使用k和i调整训练规模，训练样本 = 所有样本 / k\n",
    "k = 100  \n",
    "i = 1\n",
    "for chunk in df_train_f:\n",
    "    # 根据K drop掉样本  4000万个样本， 每个chunk5万，循环800次，k-100，则取8次chunk\n",
    "    if i < k: \n",
    "        i += 1\n",
    "        continue\n",
    "    print('training...')\n",
    "    i = 1\n",
    "    df_train = oh_enc.transform(chunk)\n",
    "    # LR训练\n",
    "    feature_train = df_train.columns.drop(['id', 'click'])\n",
    "    train_X = df_train[feature_train]\n",
    "    train_y = df_train['click'].astype('int')\n",
    "    lr_model.partial_fit(train_X, train_y, classes = [0,1])  # fitting\n",
    "    \n",
    "    # 训练结果logloss分数\n",
    "    y_pred = lr_model.predict_proba(train_X)[:, 1]\n",
    "    score = log_loss(train_y, y_pred)\n",
    "    scores.append(score)"
   ]
  },
  {
   "cell_type": "code",
   "execution_count": 9,
   "metadata": {
    "scrolled": false
   },
   "outputs": [
    {
     "name": "stdout",
     "output_type": "stream",
     "text": [
      "LR model saved\n"
     ]
    }
   ],
   "source": [
    "## 存储训练好的LR模型\n",
    "pickle.dump(lr_model, open(fp_lr_model, 'wb'))\n",
    "print('LR model saved')"
   ]
  },
  {
   "cell_type": "code",
   "execution_count": 10,
   "metadata": {},
   "outputs": [
    {
     "name": "stdout",
     "output_type": "stream",
     "text": [
      "[0.4470817671157666, 0.6021655638045901, 0.46993764719183884, 0.44542040145538964, 0.4468685262148862, 0.39244292044034795, 0.4140450408470022, 0.49329205048261326]\n"
     ]
    },
    {
     "data": {
      "image/png": "[encoded data removed]",
      "text/plain": [
       "<Figure size 432x288 with 1 Axes>"
      ]
     },
     "metadata": {
      "needs_background": "light"
     },
     "output_type": "display_data"
    }
   ],
   "source": [
    "print(scores)\n",
    "#scores = [0.1, 0.2, 0.3, 0.4]\n",
    "## 绘制LR训练分数曲线\n",
    "#f1 = plt.figure(1)\n",
    "plt.title(\"LR Training Curve\") \n",
    "plt.plot(scores)\n",
    "plt.xlabel('iterations')\n",
    "plt.ylabel('log_loss')\n",
    "plt.title('log_loss of training')\n",
    "plt.grid()\n",
    "plt.show()"
   ]
  },
  {
   "cell_type": "code",
   "execution_count": 15,
   "metadata": {},
   "outputs": [],
   "source": [
    "import gc\n",
    "del lr_model\n",
    "del df_train_f\n",
    "gc.collect()\n",
    "\n",
    "##==================== 使用训练好的LR模型进行预测，提交submission ====================##\n",
    "df_test_f = pd.read_csv(fp_test_f, dtype={'id':str}, index_col=None, chunksize=chunksize, iterator=True)        \n",
    "lr_model = pickle.load(open(fp_lr_model, 'rb'))"
   ]
  },
  {
   "cell_type": "code",
   "execution_count": 16,
   "metadata": {},
   "outputs": [
    {
     "name": "stdout",
     "output_type": "stream",
     "text": [
      "predicting...\n",
      "predicting...\n",
      "predicting...\n",
      "predicting...\n",
      "predicting...\n",
      "predicting...\n",
      "predicting...\n",
      "predicting...\n",
      "predicting...\n",
      "predicting...\n",
      "predicting...\n",
      "predicting...\n",
      "predicting...\n",
      "predicting...\n",
      "predicting...\n",
      "predicting...\n",
      "predicting...\n",
      "predicting...\n",
      "predicting...\n",
      "predicting...\n",
      "predicting...\n",
      "predicting...\n",
      "predicting...\n",
      "predicting...\n",
      "predicting...\n",
      "predicting...\n",
      "predicting...\n",
      "predicting...\n",
      "predicting...\n",
      "predicting...\n",
      "predicting...\n",
      "predicting...\n",
      "predicting...\n",
      "predicting...\n",
      "predicting...\n",
      "predicting...\n",
      "predicting...\n",
      "predicting...\n",
      "predicting...\n",
      "predicting...\n",
      "predicting...\n",
      "predicting...\n",
      "predicting...\n",
      "predicting...\n",
      "predicting...\n",
      "predicting...\n",
      "predicting...\n",
      "predicting...\n",
      "predicting...\n",
      "predicting...\n",
      "predicting...\n",
      "predicting...\n",
      "predicting...\n",
      "predicting...\n",
      "predicting...\n",
      "predicting...\n",
      "predicting...\n",
      "predicting...\n",
      "predicting...\n",
      "predicting...\n",
      "predicting...\n",
      "predicting...\n",
      "predicting...\n",
      "predicting...\n",
      "predicting...\n",
      "predicting...\n",
      "predicting...\n",
      "predicting...\n",
      "predicting...\n",
      "predicting...\n",
      "predicting...\n",
      "predicting...\n",
      "predicting...\n",
      "predicting...\n",
      "predicting...\n",
      "predicting...\n",
      "predicting...\n",
      "predicting...\n",
      "predicting...\n",
      "predicting...\n",
      "predicting...\n",
      "predicting...\n",
      "predicting...\n",
      "predicting...\n",
      "predicting...\n",
      "predicting...\n",
      "predicting...\n",
      "predicting...\n",
      "predicting...\n",
      "predicting...\n",
      "predicting...\n",
      "predicting...\n",
      "submittion completed\n"
     ]
    }
   ],
   "source": [
    "# 按照chunk对测试集进行预测\n",
    "header = True\n",
    "for chunk in df_test_f:\n",
    "    print('predicting...')\n",
    "    df_test = oh_enc.transform(chunk)\n",
    "    # 去掉ID字段\n",
    "    feature_test = df_test.columns.drop(['id'])\n",
    "    test_X = df_test[feature_test]\n",
    "    # 计算class=1的概率\n",
    "    y_pred = lr_model.predict_proba(test_X)[:, 1]  \n",
    "    # 得到submittion\n",
    "    chunk['click'] = y_pred\n",
    "    with open(fp_sub, 'a') as f: \n",
    "        # 只有第一次header=True，其余header=False\n",
    "        chunk.to_csv(f, columns=['id', 'click'], header=header, index=False) \n",
    "    header = False\n",
    "\n",
    "print('submittion completed')"
   ]
  },
  {
   "cell_type": "code",
   "execution_count": 17,
   "metadata": {},
   "outputs": [
    {
     "ename": "SyntaxError",
     "evalue": "invalid syntax (<ipython-input-17-9ce1f20b6c79>, line 1)",
     "output_type": "error",
     "traceback": [
      "\u001b[0;36m  File \u001b[0;32m\"<ipython-input-17-9ce1f20b6c79>\"\u001b[0;36m, line \u001b[0;32m1\u001b[0m\n\u001b[0;31m    kaggle competitions submit -c avazu-ctr-prediction -f submission.csv -m \"Message\"\u001b[0m\n\u001b[0m                      ^\u001b[0m\n\u001b[0;31mSyntaxError\u001b[0m\u001b[0;31m:\u001b[0m invalid syntax\n"
     ]
    }
   ],
   "source": []
  },
  {
   "cell_type": "code",
   "execution_count": null,
   "metadata": {},
   "outputs": [],
   "source": []
  }
 ],
 "metadata": {
  "kernelspec": {
   "display_name": "Python 3",
   "language": "python",
   "name": "python3"
  },
  "language_info": {
   "codemirror_mode": {
    "name": "ipython",
    "version": 3
   },
   "file_extension": ".py",
   "mimetype": "text/x-python",
   "name": "python",
   "nbconvert_exporter": "python",
   "pygments_lexer": "ipython3",
   "version": "3.7.3"
  }
 },
 "nbformat": 4,
 "nbformat_minor": 2
}
